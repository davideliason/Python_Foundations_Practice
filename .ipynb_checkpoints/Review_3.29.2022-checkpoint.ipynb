{
 "cells": [
  {
   "cell_type": "code",
   "execution_count": 58,
   "metadata": {},
   "outputs": [],
   "source": [
    "x = \"this is a blue string\""
   ]
  },
  {
   "cell_type": "code",
   "execution_count": 59,
   "metadata": {},
   "outputs": [
    {
     "name": "stdout",
     "output_type": "stream",
     "text": [
      "yes\n"
     ]
    }
   ],
   "source": [
    "if \"tis\" in x:\n",
    "    print(\"ok\")\n",
    "elif \"blue\" in x:\n",
    "    print(\"yes\")\n",
    "else:\n",
    "    print(\"no\")"
   ]
  },
  {
   "cell_type": "code",
   "execution_count": 60,
   "metadata": {},
   "outputs": [
    {
     "name": "stdout",
     "output_type": "stream",
     "text": [
      "this is a blue string\n"
     ]
    }
   ],
   "source": [
    "myTuple = (\"John\", \"Peter\", \"Vicky\")\n",
    "\n",
    "y = \"#\".join(myTuple)\n",
    "\n",
    "print(x)"
   ]
  },
  {
   "cell_type": "code",
   "execution_count": 61,
   "metadata": {},
   "outputs": [
    {
     "data": {
      "text/plain": [
       "['this', 'is', 'a', 'blue', 'string']"
      ]
     },
     "execution_count": 61,
     "metadata": {},
     "output_type": "execute_result"
    }
   ],
   "source": [
    "x.split(\" \")"
   ]
  },
  {
   "cell_type": "code",
   "execution_count": 65,
   "metadata": {},
   "outputs": [],
   "source": [
    "def try_list_append(x):\n",
    "    out_list = []\n",
    "    for num in range(10):\n",
    "        out_list.append(num)\n",
    "    return out_list"
   ]
  },
  {
   "cell_type": "code",
   "execution_count": 66,
   "metadata": {},
   "outputs": [
    {
     "data": {
      "text/plain": [
       "[0, 1, 2, 3, 4, 5, 6, 7, 8, 9]"
      ]
     },
     "execution_count": 66,
     "metadata": {},
     "output_type": "execute_result"
    }
   ],
   "source": [
    "try_list_append(5)"
   ]
  },
  {
   "cell_type": "code",
   "execution_count": 79,
   "metadata": {},
   "outputs": [
    {
     "name": "stdout",
     "output_type": "stream",
     "text": [
      "nameTESTcountry\n"
     ]
    }
   ],
   "source": [
    "myDict = {\"name\": \"John\", \"country\": \"Norway\"}\n",
    "mySeparator = \"TEST\"\n",
    "\n",
    "x = mySeparator.join(myDict)\n",
    "\n",
    "print(x)"
   ]
  },
  {
   "cell_type": "code",
   "execution_count": 81,
   "metadata": {},
   "outputs": [],
   "source": [
    "def try_join(x):\n",
    "    my_sep = \"ok\"\n",
    "    out = my_sep.join(x)\n",
    "    return out"
   ]
  },
  {
   "cell_type": "code",
   "execution_count": 82,
   "metadata": {},
   "outputs": [
    {
     "data": {
      "text/plain": [
       "'aokb'"
      ]
     },
     "execution_count": 82,
     "metadata": {},
     "output_type": "execute_result"
    }
   ],
   "source": [
    "try_join([\"a\",\"b\"])"
   ]
  },
  {
   "cell_type": "code",
   "execution_count": 83,
   "metadata": {},
   "outputs": [
    {
     "data": {
      "text/plain": [
       "'bookokbook2'"
      ]
     },
     "execution_count": 83,
     "metadata": {},
     "output_type": "execute_result"
    }
   ],
   "source": [
    "try_join({\"book\":\"dune\", \"book2\": \"dune2\"})"
   ]
  },
  {
   "cell_type": "code",
   "execution_count": 99,
   "metadata": {},
   "outputs": [],
   "source": [
    "x = ('apple', 'banana', 'cherry')\n",
    "y = enumerate(x)"
   ]
  },
  {
   "cell_type": "code",
   "execution_count": 100,
   "metadata": {},
   "outputs": [
    {
     "name": "stdout",
     "output_type": "stream",
     "text": [
      "<enumerate object at 0x7feb92eb4fc0>\n"
     ]
    }
   ],
   "source": [
    "print(y)"
   ]
  },
  {
   "cell_type": "code",
   "execution_count": 105,
   "metadata": {},
   "outputs": [
    {
     "name": "stdout",
     "output_type": "stream",
     "text": [
      "0 one\n",
      "1 two\n",
      "2 three\n"
     ]
    }
   ],
   "source": [
    "sample_list = [\"one\",\"two\",\"three\"]\n",
    "for count, word in enumerate(sample_list):\n",
    "    print(count, word)"
   ]
  },
  {
   "cell_type": "code",
   "execution_count": 103,
   "metadata": {},
   "outputs": [
    {
     "name": "stdout",
     "output_type": "stream",
     "text": [
      "1 Head north on Broadway toward W 48th St\n",
      "2 Turn left onto W 58th St\n",
      "3 Turn right onto 8th Ave\n",
      "4 Turn left onto Broadway\n",
      "5 Turn left onto Lincoln Center Plaza\n",
      "6 Turn right onto Jaffe Dr\n",
      "7 Turn left onto Broadway\n",
      "8 Turn left onto W 65th St\n"
     ]
    }
   ],
   "source": [
    "directions = [\n",
    "    'Head north on Broadway toward W 48th St',\n",
    "    'Turn left onto W 58th St',\n",
    "    'Turn right onto 8th Ave',\n",
    "    'Turn left onto Broadway',\n",
    "    'Turn left onto Lincoln Center Plaza',\n",
    "    'Turn right onto Jaffe Dr',\n",
    "    'Turn left onto Broadway',\n",
    "    'Turn left onto W 65th St'\n",
    "]\n",
    "\n",
    "for count, direction in enumerate(directions, start=1):\n",
    "    print(count, direction)"
   ]
  },
  {
   "cell_type": "code",
   "execution_count": null,
   "metadata": {},
   "outputs": [],
   "source": []
  }
 ],
 "metadata": {
  "kernelspec": {
   "display_name": "Python 3",
   "language": "python",
   "name": "python3"
  },
  "language_info": {
   "codemirror_mode": {
    "name": "ipython",
    "version": 3
   },
   "file_extension": ".py",
   "mimetype": "text/x-python",
   "name": "python",
   "nbconvert_exporter": "python",
   "pygments_lexer": "ipython3",
   "version": "3.8.5"
  }
 },
 "nbformat": 4,
 "nbformat_minor": 4
}
