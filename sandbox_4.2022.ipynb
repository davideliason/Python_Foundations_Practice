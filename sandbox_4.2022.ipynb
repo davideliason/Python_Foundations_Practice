{
 "cells": [
  {
   "cell_type": "markdown",
   "metadata": {},
   "source": [
    "Project goal \n",
    "Create a dictionary with words and word frequencies that can be passed to the generate_from_frequencies function of the WordCloud class.\n",
    "\n",
    "Once you have the dictionary, use this code to generate the word cloud image:\n",
    "\n",
    "cloud = wordcloud.WordCloud()\n",
    "cloud.generate_from_frequencies(frequencies)\n",
    "cloud.to_file(\"myfile.jpg\")\n",
    "\n",
    "\n",
    "Things to remember \n",
    "Before processing any text, you need to remove all the punctuation marks. To do this, you can go through each line of text, character-by-character, using the isalpha() method. This will check whether or not the character is a letter.\n",
    "\n",
    "To split a line of text into words, you can use the split() method.\n",
    "\n",
    "Before storing words in the frequency dictionary, check if they’re part of the \"uninteresting\" set of words (for example: \"a\", \"the\", \"to\", \"if\"). Make this set a parameter to your function so that you can change it if necessary.\n",
    "\n",
    "Input file\n",
    "For the input file, you need to provide a file that contains text only. For the text itself, you can copy and paste the contents of a website you like. Or you can use a site like Project Gutenberg to find books that are available online. You could see what word clouds you can get from famous books, like a Shakespeare play or a novel by Jane Austen.\n"
   ]
  },
  {
   "cell_type": "code",
   "execution_count": 1,
   "metadata": {},
   "outputs": [],
   "source": [
    "# For this project, you’ll create a “word cloud” from a text by writing a script. \n",
    "# This script needs to process the text, \n",
    "# remove punctuation, count the frequencies, and ignore uninteresting or irrelevant words. "
   ]
  },
  {
   "cell_type": "code",
   "execution_count": 4,
   "metadata": {},
   "outputs": [],
   "source": [
    "practice_text = \"Things to remember Before processing any text okay okay\"\n"
   ]
  },
  {
   "cell_type": "code",
   "execution_count": 5,
   "metadata": {},
   "outputs": [
    {
     "name": "stdout",
     "output_type": "stream",
     "text": [
      "Things to remember Before processing any text okay okay\n"
     ]
    }
   ],
   "source": [
    "print(practice_text)"
   ]
  },
  {
   "cell_type": "code",
   "execution_count": 12,
   "metadata": {},
   "outputs": [],
   "source": [
    "def filter_words(input_text):\n",
    "    punctuations = '''!()-[]{};:'\"\\,<>./?@#$%^&*_~'''\n",
    "    uninteresting_words = [\"and\",\"the\",\"a\",\"any\"]\n",
    "    \n",
    "    dict_holder = {}\n",
    "    split_words = input_text.split()\n",
    "    #cleaned_split_words = []\n",
    "    \n",
    "    for word in split_words:\n",
    "        if word not in uninteresting_words:\n",
    "            #cleaned_split_words.append(word)\n",
    "            for letter in word:\n",
    "                if letter in punctuations:\n",
    "                    \n",
    "    return cleaned_split_words"
   ]
  },
  {
   "cell_type": "code",
   "execution_count": 13,
   "metadata": {},
   "outputs": [
    {
     "data": {
      "text/plain": [
       "['Things', 'to', 'remember', 'Before', 'processing', 'text', 'okay', 'okay']"
      ]
     },
     "execution_count": 13,
     "metadata": {},
     "output_type": "execute_result"
    }
   ],
   "source": [
    "filter_words(practice_text)"
   ]
  },
  {
   "cell_type": "code",
   "execution_count": null,
   "metadata": {},
   "outputs": [],
   "source": [
    "# replace "
   ]
  },
  {
   "cell_type": "code",
   "execution_count": null,
   "metadata": {},
   "outputs": [],
   "source": []
  }
 ],
 "metadata": {
  "kernelspec": {
   "display_name": "Python 3",
   "language": "python",
   "name": "python3"
  },
  "language_info": {
   "codemirror_mode": {
    "name": "ipython",
    "version": 3
   },
   "file_extension": ".py",
   "mimetype": "text/x-python",
   "name": "python",
   "nbconvert_exporter": "python",
   "pygments_lexer": "ipython3",
   "version": "3.8.5"
  }
 },
 "nbformat": 4,
 "nbformat_minor": 4
}
