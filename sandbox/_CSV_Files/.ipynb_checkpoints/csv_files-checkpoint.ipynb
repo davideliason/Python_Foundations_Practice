{
 "cells": [
  {
   "cell_type": "code",
   "execution_count": 12,
   "metadata": {},
   "outputs": [],
   "source": [
    "import csv\n"
   ]
  },
  {
   "cell_type": "code",
   "execution_count": 16,
   "metadata": {},
   "outputs": [
    {
     "name": "stdout",
     "output_type": "stream",
     "text": [
      "Dune is  1000 pages long and is rated  \"excellent\"\n",
      "2001 is  500 pages long and is rated  \"great\"\n"
     ]
    }
   ],
   "source": [
    "f = open(\"books_title_pageno_review.txt\")\n",
    "csv_f = csv.reader(f)\n",
    "for row in csv_f:\n",
    "    title,pages,review = row\n",
    "    print(\"{} is {} pages long and is rated {}\".format(title, pages,review))"
   ]
  },
  {
   "cell_type": "code",
   "execution_count": 14,
   "metadata": {},
   "outputs": [
    {
     "name": "stdout",
     "output_type": "stream",
     "text": [
      "['Dune', ' 1000', ' \"excellent\"']\n",
      "['2001', ' 500', ' \"great\"']\n"
     ]
    }
   ],
   "source": [
    "for row in csv_f:\n",
    "    print(row)"
   ]
  },
  {
   "cell_type": "markdown",
   "metadata": {},
   "source": [
    "Generating CSV Files\n"
   ]
  },
  {
   "cell_type": "code",
   "execution_count": 17,
   "metadata": {},
   "outputs": [],
   "source": [
    "# create list\n",
    "books = [ [\"blue books\", \"excellent book\"], [ \"red books\", \"crazy good\"]]"
   ]
  },
  {
   "cell_type": "code",
   "execution_count": 18,
   "metadata": {},
   "outputs": [],
   "source": [
    "with open(\"books.csv\",\"w\") as books_csv:\n",
    "    writer = csv.writer(books_csv)\n",
    "    # choose b/w writerow or writerows\n",
    "    writer.writerows(books)\n",
    "    "
   ]
  },
  {
   "cell_type": "code",
   "execution_count": 19,
   "metadata": {},
   "outputs": [
    {
     "name": "stdout",
     "output_type": "stream",
     "text": [
      "blue books,excellent book\r",
      "\r\n",
      "red books,crazy good\r",
      "\r\n"
     ]
    }
   ],
   "source": [
    "cat books.csv"
   ]
  },
  {
   "cell_type": "markdown",
   "metadata": {},
   "source": [
    "Read and Write CSV Files With Dictionaries"
   ]
  },
  {
   "cell_type": "code",
   "execution_count": 20,
   "metadata": {},
   "outputs": [
    {
     "name": "stdout",
     "output_type": "stream",
     "text": [
      "['name', ' version', ' status', ' users']\n",
      "['MailTree', ' 5.34', ' production', ' 323']\n",
      "['CalDoor', ' 1.25', ' beta', ' 22']\n",
      "['Chatty Dogs', ' 1.1', ' delta', ' 5']\n"
     ]
    }
   ],
   "source": [
    "# practice read\n",
    "import csv\n",
    "with open('software.csv') as file:\n",
    "    csv_f = csv.reader(file)\n",
    "    for row in csv_f:\n",
    "        print(row)"
   ]
  },
  {
   "cell_type": "code",
   "execution_count": 24,
   "metadata": {},
   "outputs": [],
   "source": [
    "# practice append to software.csv file\n",
    "import csv\n",
    "new_info = [\"this\", 1.2, \"beta\", 100]\n",
    "with open(\"software.csv\",\"a\") as file:\n",
    "    writer = csv.writer(file)\n",
    "    writer.writerow(new_info)"
   ]
  },
  {
   "cell_type": "code",
   "execution_count": 25,
   "metadata": {},
   "outputs": [
    {
     "name": "stdout",
     "output_type": "stream",
     "text": [
      "name, version, status, users\r\n",
      "MailTree, 5.34, production, 323\r\n",
      "CalDoor, 1.25, beta, 22\r\n",
      "Chatty Dogs, 1.1, delta, 5\r\n",
      "n,e,w,_,i,n,f,o\r",
      "\r\n",
      "this,1.2,beta,100\r",
      "\r\n"
     ]
    }
   ],
   "source": [
    "cat software.csv"
   ]
  },
  {
   "cell_type": "markdown",
   "metadata": {},
   "source": [
    "Use of DictReader to read CSV data into Dictionaries"
   ]
  },
  {
   "cell_type": "code",
   "execution_count": 28,
   "metadata": {},
   "outputs": [
    {
     "name": "stdout",
     "output_type": "stream",
     "text": [
      "MailTree users\n",
      "CalDoor users\n",
      "Chatty Dogs users\n",
      "n users\n",
      "this users\n"
     ]
    }
   ],
   "source": [
    "with open(\"software.csv\") as software:\n",
    "    reader = csv.DictReader(software)\n",
    "    for row in reader:\n",
    "        print(\"{} users\".format(row[\"name\"]))"
   ]
  },
  {
   "cell_type": "markdown",
   "metadata": {},
   "source": [
    "Use of DictWRiter to write Dictionaries from CSV data\n",
    "\n",
    "DictReader() allows us to convert the data in a CSV file into a standard dictionary. DictWriter() \\ allows us to write data from a dictionary into a CSV file. "
   ]
  },
  {
   "cell_type": "code",
   "execution_count": 29,
   "metadata": {},
   "outputs": [],
   "source": [
    "books = [ { \"title\" : \"Dune\", \"pages\" : 1000 }, { \"title\" : \"2001\", \"pages\" : 200}]"
   ]
  },
  {
   "cell_type": "code",
   "execution_count": 31,
   "metadata": {},
   "outputs": [
    {
     "name": "stdout",
     "output_type": "stream",
     "text": [
      "Dune\n"
     ]
    }
   ],
   "source": [
    "print(books[0][\"title\"])"
   ]
  },
  {
   "cell_type": "code",
   "execution_count": 32,
   "metadata": {},
   "outputs": [],
   "source": [
    "keys = [ \"title\", \"pages\"]\n",
    "with open(\"some_book_info.csv\",\"w\") as some_book_info:\n",
    "    writer = csv.DictWriter(some_book_info, fieldnames = keys)\n",
    "    writer.writeheader() # creates first line based on passed keys\n",
    "    writer.writerows(books)"
   ]
  },
  {
   "cell_type": "code",
   "execution_count": 33,
   "metadata": {},
   "outputs": [
    {
     "name": "stdout",
     "output_type": "stream",
     "text": [
      "title,pages\r",
      "\r\n",
      "Dune,1000\r",
      "\r\n",
      "2001,200\r",
      "\r\n"
     ]
    }
   ],
   "source": [
    "cat some_book_info.csv"
   ]
  },
  {
   "cell_type": "markdown",
   "metadata": {},
   "source": [
    "CSV files info:\n",
    "\n",
    "https://docs.python.org/3/library/csv.html\n",
    "\n",
    "https://realpython.com/python-csv/\n",
    "\n"
   ]
  }
 ],
 "metadata": {
  "kernelspec": {
   "display_name": "Python 3",
   "language": "python",
   "name": "python3"
  },
  "language_info": {
   "codemirror_mode": {
    "name": "ipython",
    "version": 3
   },
   "file_extension": ".py",
   "mimetype": "text/x-python",
   "name": "python",
   "nbconvert_exporter": "python",
   "pygments_lexer": "ipython3",
   "version": "3.8.5"
  }
 },
 "nbformat": 4,
 "nbformat_minor": 4
}
