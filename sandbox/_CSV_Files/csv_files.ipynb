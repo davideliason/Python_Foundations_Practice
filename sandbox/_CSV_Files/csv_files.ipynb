{
 "cells": [
  {
   "cell_type": "code",
   "execution_count": 12,
   "metadata": {},
   "outputs": [],
   "source": [
    "import csv\n"
   ]
  },
  {
   "cell_type": "code",
   "execution_count": 16,
   "metadata": {},
   "outputs": [
    {
     "name": "stdout",
     "output_type": "stream",
     "text": [
      "Dune is  1000 pages long and is rated  \"excellent\"\n",
      "2001 is  500 pages long and is rated  \"great\"\n"
     ]
    }
   ],
   "source": [
    "f = open(\"books_title_pageno_review.txt\")\n",
    "csv_f = csv.reader(f)\n",
    "for row in csv_f:\n",
    "    title,pages,review = row\n",
    "    print(\"{} is {} pages long and is rated {}\".format(title, pages,review))"
   ]
  },
  {
   "cell_type": "code",
   "execution_count": 14,
   "metadata": {},
   "outputs": [
    {
     "name": "stdout",
     "output_type": "stream",
     "text": [
      "['Dune', ' 1000', ' \"excellent\"']\n",
      "['2001', ' 500', ' \"great\"']\n"
     ]
    }
   ],
   "source": [
    "for row in csv_f:\n",
    "    print(row)"
   ]
  },
  {
   "cell_type": "markdown",
   "metadata": {},
   "source": [
    "Generating CSV Files\n"
   ]
  },
  {
   "cell_type": "code",
   "execution_count": 17,
   "metadata": {},
   "outputs": [],
   "source": [
    "# create list\n",
    "books = [ [\"blue books\", \"excellent book\"], [ \"red books\", \"crazy good\"]]"
   ]
  },
  {
   "cell_type": "code",
   "execution_count": 18,
   "metadata": {},
   "outputs": [],
   "source": [
    "with open(\"books.csv\",\"w\") as books_csv:\n",
    "    writer = csv.writer(books_csv)\n",
    "    # choose b/w writerow or writerows\n",
    "    writer.writerows(books)\n",
    "    "
   ]
  },
  {
   "cell_type": "code",
   "execution_count": 19,
   "metadata": {},
   "outputs": [
    {
     "name": "stdout",
     "output_type": "stream",
     "text": [
      "blue books,excellent book\r",
      "\r\n",
      "red books,crazy good\r",
      "\r\n"
     ]
    }
   ],
   "source": [
    "cat books.csv"
   ]
  },
  {
   "cell_type": "markdown",
   "metadata": {},
   "source": [
    "Read and Write CSV Files With Dictionaries"
   ]
  },
  {
   "cell_type": "code",
   "execution_count": 20,
   "metadata": {},
   "outputs": [
    {
     "name": "stdout",
     "output_type": "stream",
     "text": [
      "['name', ' version', ' status', ' users']\n",
      "['MailTree', ' 5.34', ' production', ' 323']\n",
      "['CalDoor', ' 1.25', ' beta', ' 22']\n",
      "['Chatty Dogs', ' 1.1', ' delta', ' 5']\n"
     ]
    }
   ],
   "source": [
    "# practice read\n",
    "import csv\n",
    "with open('software.csv') as file:\n",
    "    csv_f = csv.reader(file)\n",
    "    for row in csv_f:\n",
    "        print(row)"
   ]
  },
  {
   "cell_type": "code",
   "execution_count": 21,
   "metadata": {},
   "outputs": [
    {
     "ename": "TypeError",
     "evalue": "writerow() takes exactly one argument (4 given)",
     "output_type": "error",
     "traceback": [
      "\u001b[0;31m---------------------------------------------------------------------------\u001b[0m",
      "\u001b[0;31mTypeError\u001b[0m                                 Traceback (most recent call last)",
      "\u001b[0;32m<ipython-input-21-51cd5210ada9>\u001b[0m in \u001b[0;36m<module>\u001b[0;34m\u001b[0m\n\u001b[1;32m      3\u001b[0m \u001b[0;32mwith\u001b[0m \u001b[0mopen\u001b[0m\u001b[0;34m(\u001b[0m\u001b[0;34m\"software.csv\"\u001b[0m\u001b[0;34m,\u001b[0m\u001b[0;34m\"a\"\u001b[0m\u001b[0;34m)\u001b[0m \u001b[0;32mas\u001b[0m \u001b[0mfile\u001b[0m\u001b[0;34m:\u001b[0m\u001b[0;34m\u001b[0m\u001b[0;34m\u001b[0m\u001b[0m\n\u001b[1;32m      4\u001b[0m     \u001b[0mwriter\u001b[0m \u001b[0;34m=\u001b[0m \u001b[0mcsv\u001b[0m\u001b[0;34m.\u001b[0m\u001b[0mwriter\u001b[0m\u001b[0;34m(\u001b[0m\u001b[0mfile\u001b[0m\u001b[0;34m)\u001b[0m\u001b[0;34m\u001b[0m\u001b[0;34m\u001b[0m\u001b[0m\n\u001b[0;32m----> 5\u001b[0;31m     \u001b[0mwriter\u001b[0m\u001b[0;34m.\u001b[0m\u001b[0mwriterow\u001b[0m\u001b[0;34m(\u001b[0m\u001b[0;34m\"Blue Sky\"\u001b[0m\u001b[0;34m,\u001b[0m \u001b[0;36m1.0\u001b[0m\u001b[0;34m,\u001b[0m \u001b[0;34m\"dev\"\u001b[0m\u001b[0;34m,\u001b[0m \u001b[0;36m123\u001b[0m\u001b[0;34m)\u001b[0m\u001b[0;34m\u001b[0m\u001b[0;34m\u001b[0m\u001b[0m\n\u001b[0m",
      "\u001b[0;31mTypeError\u001b[0m: writerow() takes exactly one argument (4 given)"
     ]
    }
   ],
   "source": [
    "# practice append to software.csv file\n",
    "import csv\n",
    "new_info = []\n",
    "with open(\"software.csv\",\"a\") as file:\n",
    "    writer = csv.writer(file)\n",
    "    writer.writerow(\"new_info\")"
   ]
  },
  {
   "cell_type": "code",
   "execution_count": null,
   "metadata": {},
   "outputs": [],
   "source": []
  }
 ],
 "metadata": {
  "kernelspec": {
   "display_name": "Python 3",
   "language": "python",
   "name": "python3"
  },
  "language_info": {
   "codemirror_mode": {
    "name": "ipython",
    "version": 3
   },
   "file_extension": ".py",
   "mimetype": "text/x-python",
   "name": "python",
   "nbconvert_exporter": "python",
   "pygments_lexer": "ipython3",
   "version": "3.8.5"
  }
 },
 "nbformat": 4,
 "nbformat_minor": 4
}
