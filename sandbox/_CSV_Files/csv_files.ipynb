{
 "cells": [
  {
   "cell_type": "code",
   "execution_count": 12,
   "metadata": {},
   "outputs": [],
   "source": [
    "import csv\n",
    "import os\n"
   ]
  },
  {
   "cell_type": "code",
   "execution_count": 4,
   "metadata": {},
   "outputs": [
    {
     "name": "stdout",
     "output_type": "stream",
     "text": [
      "blue books,excellent book\n",
      "\n",
      "red books,crazy good\n",
      "\n"
     ]
    }
   ],
   "source": [
    "# practice 4.20.2022\n",
    "with open('books.csv') as book_data:\n",
    "    for item in book_data:\n",
    "        print(item)"
   ]
  },
  {
   "cell_type": "code",
   "execution_count": 7,
   "metadata": {},
   "outputs": [],
   "source": [
    "with open('4_20_2022_file.csv', 'w') as file:\n",
    "    write_file = csv.writer(file)\n",
    "    write_file.writerows(\"hello there\")"
   ]
  },
  {
   "cell_type": "code",
   "execution_count": 8,
   "metadata": {},
   "outputs": [],
   "source": [
    "# another example\n",
    "headers = ['Symbol','Price','Date','Time','Change','Volume']\n",
    "rows = [{'Symbol': 'AA', 'Volume': 181800, 'Change': -0.18,\n",
    "         'Time': '9:36am', 'Date': '6/11/2007', 'Price': 39.48},\n",
    "        {'Symbol': 'AIG', 'Volume': 195500, 'Change': -0.15,\n",
    "         'Time': '9:36am', 'Date': '6/11/2007', 'Price': 71.38} ]\n"
   ]
  },
  {
   "cell_type": "code",
   "execution_count": 9,
   "metadata": {},
   "outputs": [],
   "source": [
    "with open('4_20_2022.csv','w') as file:\n",
    "    file_csv = csv.DictWriter(file, headers)\n",
    "    file_csv.writeheader()\n",
    "    file_csv.writerows(rows)"
   ]
  },
  {
   "cell_type": "code",
   "execution_count": null,
   "metadata": {},
   "outputs": [],
   "source": []
  },
  {
   "cell_type": "code",
   "execution_count": 16,
   "metadata": {},
   "outputs": [
    {
     "name": "stdout",
     "output_type": "stream",
     "text": [
      "Dune is  1000 pages long and is rated  \"excellent\"\n",
      "2001 is  500 pages long and is rated  \"great\"\n"
     ]
    }
   ],
   "source": [
    "f = open(\"books_title_pageno_review.txt\")\n",
    "csv_f = csv.reader(f)\n",
    "for row in csv_f:\n",
    "    title,pages,review = row\n",
    "    print(\"{} is {} pages long and is rated {}\".format(title, pages,review))"
   ]
  },
  {
   "cell_type": "code",
   "execution_count": 14,
   "metadata": {},
   "outputs": [
    {
     "name": "stdout",
     "output_type": "stream",
     "text": [
      "['Dune', ' 1000', ' \"excellent\"']\n",
      "['2001', ' 500', ' \"great\"']\n"
     ]
    }
   ],
   "source": [
    "for row in csv_f:\n",
    "    print(row)"
   ]
  },
  {
   "cell_type": "markdown",
   "metadata": {},
   "source": [
    "Generating CSV Files\n"
   ]
  },
  {
   "cell_type": "code",
   "execution_count": 17,
   "metadata": {},
   "outputs": [],
   "source": [
    "# create list\n",
    "books = [ [\"blue books\", \"excellent book\"], [ \"red books\", \"crazy good\"]]"
   ]
  },
  {
   "cell_type": "code",
   "execution_count": 18,
   "metadata": {},
   "outputs": [],
   "source": [
    "with open(\"books.csv\",\"w\") as books_csv:\n",
    "    writer = csv.writer(books_csv)\n",
    "    # choose b/w writerow or writerows\n",
    "    writer.writerows(books)\n",
    "    "
   ]
  },
  {
   "cell_type": "code",
   "execution_count": 19,
   "metadata": {},
   "outputs": [
    {
     "name": "stdout",
     "output_type": "stream",
     "text": [
      "blue books,excellent book\r",
      "\r\n",
      "red books,crazy good\r",
      "\r\n"
     ]
    }
   ],
   "source": [
    "cat books.csv"
   ]
  },
  {
   "cell_type": "markdown",
   "metadata": {},
   "source": [
    "Read and Write CSV Files With Dictionaries"
   ]
  },
  {
   "cell_type": "code",
   "execution_count": 20,
   "metadata": {},
   "outputs": [
    {
     "name": "stdout",
     "output_type": "stream",
     "text": [
      "['name', ' version', ' status', ' users']\n",
      "['MailTree', ' 5.34', ' production', ' 323']\n",
      "['CalDoor', ' 1.25', ' beta', ' 22']\n",
      "['Chatty Dogs', ' 1.1', ' delta', ' 5']\n"
     ]
    }
   ],
   "source": [
    "# practice read\n",
    "import csv\n",
    "with open('software.csv') as file:\n",
    "    csv_f = csv.reader(file)\n",
    "    for row in csv_f:\n",
    "        print(row)"
   ]
  },
  {
   "cell_type": "code",
   "execution_count": 24,
   "metadata": {},
   "outputs": [],
   "source": [
    "# practice append to software.csv file\n",
    "import csv\n",
    "new_info = [\"this\", 1.2, \"beta\", 100]\n",
    "with open(\"software.csv\",\"a\") as file:\n",
    "    writer = csv.writer(file)\n",
    "    writer.writerow(new_info)"
   ]
  },
  {
   "cell_type": "code",
   "execution_count": 25,
   "metadata": {},
   "outputs": [
    {
     "name": "stdout",
     "output_type": "stream",
     "text": [
      "name, version, status, users\r\n",
      "MailTree, 5.34, production, 323\r\n",
      "CalDoor, 1.25, beta, 22\r\n",
      "Chatty Dogs, 1.1, delta, 5\r\n",
      "n,e,w,_,i,n,f,o\r",
      "\r\n",
      "this,1.2,beta,100\r",
      "\r\n"
     ]
    }
   ],
   "source": [
    "cat software.csv"
   ]
  },
  {
   "cell_type": "markdown",
   "metadata": {},
   "source": [
    "Use of DictReader to read CSV data into Dictionaries"
   ]
  },
  {
   "cell_type": "code",
   "execution_count": 28,
   "metadata": {},
   "outputs": [
    {
     "name": "stdout",
     "output_type": "stream",
     "text": [
      "MailTree users\n",
      "CalDoor users\n",
      "Chatty Dogs users\n",
      "n users\n",
      "this users\n"
     ]
    }
   ],
   "source": [
    "with open(\"software.csv\") as software:\n",
    "    reader = csv.DictReader(software)\n",
    "    for row in reader:\n",
    "        print(\"{} users\".format(row[\"name\"]))"
   ]
  },
  {
   "cell_type": "markdown",
   "metadata": {},
   "source": [
    "Use of DictWRiter to write Dictionaries from CSV data\n",
    "\n",
    "DictReader() allows us to convert the data in a CSV file into a standard dictionary. DictWriter() \\ allows us to write data from a dictionary into a CSV file. "
   ]
  },
  {
   "cell_type": "code",
   "execution_count": 29,
   "metadata": {},
   "outputs": [],
   "source": [
    "books = [ { \"title\" : \"Dune\", \"pages\" : 1000 }, { \"title\" : \"2001\", \"pages\" : 200}]"
   ]
  },
  {
   "cell_type": "code",
   "execution_count": 31,
   "metadata": {},
   "outputs": [
    {
     "name": "stdout",
     "output_type": "stream",
     "text": [
      "Dune\n"
     ]
    }
   ],
   "source": [
    "print(books[0][\"title\"])"
   ]
  },
  {
   "cell_type": "code",
   "execution_count": 32,
   "metadata": {},
   "outputs": [],
   "source": [
    "keys = [ \"title\", \"pages\"]\n",
    "with open(\"some_book_info.csv\",\"w\") as some_book_info:\n",
    "    writer = csv.DictWriter(some_book_info, fieldnames = keys)\n",
    "    writer.writeheader() # creates first line based on passed keys\n",
    "    writer.writerows(books)"
   ]
  },
  {
   "cell_type": "code",
   "execution_count": 33,
   "metadata": {},
   "outputs": [
    {
     "name": "stdout",
     "output_type": "stream",
     "text": [
      "title,pages\r",
      "\r\n",
      "Dune,1000\r",
      "\r\n",
      "2001,200\r",
      "\r\n"
     ]
    }
   ],
   "source": [
    "cat some_book_info.csv"
   ]
  },
  {
   "cell_type": "markdown",
   "metadata": {},
   "source": [
    "CSV files info:\n",
    "\n",
    "https://docs.python.org/3/library/csv.html\n",
    "\n",
    "https://realpython.com/python-csv/\n",
    "\n"
   ]
  },
  {
   "cell_type": "markdown",
   "metadata": {},
   "source": [
    "Question 1\n",
    "We're working with a list of flowers and some information about each one. The create_file function writes this information to a CSV file. The contents_of_file function reads this file into records and returns the information in a nicely formatted block. Fill in the gaps of the contents_of_file function to turn the data in the CSV file into a dictionary using DictReader."
   ]
  },
  {
   "cell_type": "code",
   "execution_count": 1,
   "metadata": {},
   "outputs": [
    {
     "name": "stdout",
     "output_type": "stream",
     "text": [
      "a pink carnation is annual\n",
      "a yellow daffodil is perennial\n",
      "a blue iris is perennial\n",
      "a red poinsettia is perennial\n",
      "a yellow sunflower is annual\n",
      "\n"
     ]
    }
   ],
   "source": [
    "import os\n",
    "import csv\n",
    "\n",
    "# Create a file with data in it\n",
    "def create_file(filename):\n",
    "  with open(filename, \"w\") as file:\n",
    "    file.write(\"name,color,type\\n\")\n",
    "    file.write(\"carnation,pink,annual\\n\")\n",
    "    file.write(\"daffodil,yellow,perennial\\n\")\n",
    "    file.write(\"iris,blue,perennial\\n\")\n",
    "    file.write(\"poinsettia,red,perennial\\n\")\n",
    "    file.write(\"sunflower,yellow,annual\\n\")\n",
    "\n",
    "# Read the file contents and format the information about each row\n",
    "def contents_of_file(filename):\n",
    "  return_string = \"\"\n",
    "\n",
    "  # Call the function to create the file \n",
    "  create_file(filename)\n",
    "\n",
    "  # Open the file\n",
    "  with open(filename,'r') as file:\n",
    "    # Read the rows of the file into a dictionary\n",
    "    dictionary = csv.DictReader(file)\n",
    "    # Process each item of the dictionary\n",
    "    for row in dictionary:\n",
    "      return_string += \"a {} {} is {}\\n\".format(row[\"color\"], row[\"name\"], row[\"type\"])\n",
    "  return return_string\n",
    "\n",
    "#Call the function\n",
    "print(contents_of_file(\"flowers.csv\"))"
   ]
  },
  {
   "cell_type": "code",
   "execution_count": 2,
   "metadata": {},
   "outputs": [
    {
     "name": "stdout",
     "output_type": "stream",
     "text": [
      "Object `names` not found.\n"
     ]
    }
   ],
   "source": [
    "Using the CSV file of flowers again, fill in the gaps of the contents_of_file function to process the data without turning it into a dictionary. How do you skip over the header record with the field names?"
   ]
  },
  {
   "cell_type": "code",
   "execution_count": null,
   "metadata": {},
   "outputs": [],
   "source": [
    "Using the CSV file of flowers again, fill in the gaps of the contents_of_file function to process the data without turning it into a dictionary. How do you skip over the header record with the field names"
   ]
  },
  {
   "cell_type": "code",
   "execution_count": 3,
   "metadata": {},
   "outputs": [
    {
     "name": "stdout",
     "output_type": "stream",
     "text": [
      "a pink carnation is annual\n",
      "a yellow daffodil is perennial\n",
      "a blue iris is perennial\n",
      "a red poinsettia is perennial\n",
      "a yellow sunflower is annual\n",
      "\n"
     ]
    }
   ],
   "source": [
    "import os\n",
    "import csv\n",
    "\n",
    "# Create a file with data in it\n",
    "def create_file(filename):\n",
    "  with open(filename, \"w\") as file:\n",
    "    file.write(\"name,color,type\\n\")\n",
    "    file.write(\"carnation,pink,annual\\n\")\n",
    "    file.write(\"daffodil,yellow,perennial\\n\")\n",
    "    file.write(\"iris,blue,perennial\\n\")\n",
    "    file.write(\"poinsettia,red,perennial\\n\")\n",
    "    file.write(\"sunflower,yellow,annual\\n\")\n",
    "\n",
    "# Read the file contents and format the information about each row\n",
    "def contents_of_file(filename):\n",
    "  return_string = \"\"\n",
    "\n",
    "  # Call the function to create the file \n",
    "  create_file(filename)\n",
    "\n",
    "  # Open the file\n",
    "  with open(filename, 'r') as file:\n",
    "    # Read the rows of the file\n",
    "    rows = csv.reader(file)\n",
    "    next(rows)\n",
    "    # Process each row\n",
    "    for row in rows:\n",
    "      name, color, type = row\n",
    "      # Format the return string for data rows only\n",
    "\n",
    "      return_string += \"a {} {} is {}\\n\".format(color,name,type)\n",
    "  return return_string\n",
    "\n",
    "#Call the function\n",
    "print(contents_of_file(\"flowers.csv\"))"
   ]
  },
  {
   "cell_type": "code",
   "execution_count": null,
   "metadata": {},
   "outputs": [],
   "source": []
  }
 ],
 "metadata": {
  "kernelspec": {
   "display_name": "Python 3",
   "language": "python",
   "name": "python3"
  },
  "language_info": {
   "codemirror_mode": {
    "name": "ipython",
    "version": 3
   },
   "file_extension": ".py",
   "mimetype": "text/x-python",
   "name": "python",
   "nbconvert_exporter": "python",
   "pygments_lexer": "ipython3",
   "version": "3.8.5"
  }
 },
 "nbformat": 4,
 "nbformat_minor": 4
}
