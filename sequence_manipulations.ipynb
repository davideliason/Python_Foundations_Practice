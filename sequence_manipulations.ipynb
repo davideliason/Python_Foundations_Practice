{
 "cells": [
  {
   "cell_type": "code",
   "execution_count": 1,
   "metadata": {},
   "outputs": [
    {
     "name": "stdout",
     "output_type": "stream",
     "text": [
      "['program.c', 'stdio.h', 'sample.h', 'a.out', 'math.h', 'hpp.out']\n"
     ]
    }
   ],
   "source": [
    "filenames = [\"program.c\", \"stdio.hpp\", \"sample.hpp\", \"a.out\", \"math.hpp\", \"hpp.out\"]\n",
    "# objective: given the above list of filenames, rename all files with extension of hpp to .h extension\n",
    "\n",
    "newfilenames = []\n",
    "for x in filenames: # for loop, find desired files, replace extension\n",
    "    if x.endswith(\".hpp\"):\n",
    "        newfilename = x.replace(\".hpp\",\".h\")\n",
    "        newfilenames.append(newfilename)\n",
    "    else:\n",
    "        newfilenames.append(x)\n",
    "print(newfilenames) "
   ]
  },
  {
   "cell_type": "code",
   "execution_count": null,
   "metadata": {},
   "outputs": [],
   "source": []
  }
 ],
 "metadata": {
  "kernelspec": {
   "display_name": "Python 3",
   "language": "python",
   "name": "python3"
  },
  "language_info": {
   "codemirror_mode": {
    "name": "ipython",
    "version": 3
   },
   "file_extension": ".py",
   "mimetype": "text/x-python",
   "name": "python",
   "nbconvert_exporter": "python",
   "pygments_lexer": "ipython3",
   "version": "3.8.5"
  }
 },
 "nbformat": 4,
 "nbformat_minor": 4
}
